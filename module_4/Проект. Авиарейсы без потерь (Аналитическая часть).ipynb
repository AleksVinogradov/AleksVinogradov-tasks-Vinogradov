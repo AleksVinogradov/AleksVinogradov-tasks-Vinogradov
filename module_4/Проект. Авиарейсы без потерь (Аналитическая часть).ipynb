{
 "cells": [
  {
   "cell_type": "markdown",
   "metadata": {},
   "source": [
    "## <center>Проект. Авиарейсы без потерь\n",
    "## <center>Аналитическая часть"
   ]
  },
  {
   "cell_type": "markdown",
   "metadata": {},
   "source": [
    "Главной задачей модуля являлось составление датасета из базы данных авиаперевозок при помощи SQL запросов. В датасете должны входить данные, которые помогут проанализировать прибыльность рейсов из Анапы в зимнее время.<br>"
   ]
  },
  {
   "cell_type": "markdown",
   "metadata": {},
   "source": [
    "Результат выполнения основной задачи (SQL код и датасет) выложены отдельными файлами."
   ]
  },
  {
   "cell_type": "markdown",
   "metadata": {},
   "source": [
    "В аналитической части проекта необходимо посчитать прибыльность рейсов. На основании полученных результатов сделать выводы от каких рейсов можно отказаться."
   ]
  },
  {
   "cell_type": "code",
   "execution_count": 1,
   "metadata": {},
   "outputs": [],
   "source": [
    "import pandas as pd"
   ]
  },
  {
   "cell_type": "code",
   "execution_count": 2,
   "metadata": {},
   "outputs": [],
   "source": [
    "#загружаем наш датасет\n",
    "df = pd.read_csv('Dataset.csv')"
   ]
  },
  {
   "cell_type": "code",
   "execution_count": 3,
   "metadata": {
    "scrolled": true
   },
   "outputs": [
    {
     "data": {
      "text/html": [
       "<div>\n",
       "<style scoped>\n",
       "    .dataframe tbody tr th:only-of-type {\n",
       "        vertical-align: middle;\n",
       "    }\n",
       "\n",
       "    .dataframe tbody tr th {\n",
       "        vertical-align: top;\n",
       "    }\n",
       "\n",
       "    .dataframe thead th {\n",
       "        text-align: right;\n",
       "    }\n",
       "</style>\n",
       "<table border=\"1\" class=\"dataframe\">\n",
       "  <thead>\n",
       "    <tr style=\"text-align: right;\">\n",
       "      <th></th>\n",
       "      <th>flight_id</th>\n",
       "      <th>dep_city</th>\n",
       "      <th>arr_city</th>\n",
       "      <th>scheduled_arrival</th>\n",
       "      <th>model</th>\n",
       "      <th>proceeds</th>\n",
       "      <th>travel_time</th>\n",
       "    </tr>\n",
       "  </thead>\n",
       "  <tbody>\n",
       "    <tr>\n",
       "      <th>76</th>\n",
       "      <td>136632</td>\n",
       "      <td>Anapa</td>\n",
       "      <td>Belgorod</td>\n",
       "      <td>2017-01-07T10:15:00Z</td>\n",
       "      <td>Sukhoi Superjet-100</td>\n",
       "      <td>714300.0</td>\n",
       "      <td>50.0</td>\n",
       "    </tr>\n",
       "    <tr>\n",
       "      <th>74</th>\n",
       "      <td>136620</td>\n",
       "      <td>Anapa</td>\n",
       "      <td>Belgorod</td>\n",
       "      <td>2017-02-17T10:15:00Z</td>\n",
       "      <td>Sukhoi Superjet-100</td>\n",
       "      <td>613500.0</td>\n",
       "      <td>50.0</td>\n",
       "    </tr>\n",
       "    <tr>\n",
       "      <th>40</th>\n",
       "      <td>136383</td>\n",
       "      <td>Anapa</td>\n",
       "      <td>Moscow</td>\n",
       "      <td>2017-01-25T11:45:00Z</td>\n",
       "      <td>Boeing 737-300</td>\n",
       "      <td>1493200.0</td>\n",
       "      <td>100.0</td>\n",
       "    </tr>\n",
       "    <tr>\n",
       "      <th>122</th>\n",
       "      <td>136936</td>\n",
       "      <td>Anapa</td>\n",
       "      <td>Belgorod</td>\n",
       "      <td>2017-01-02T10:15:00Z</td>\n",
       "      <td>Sukhoi Superjet-100</td>\n",
       "      <td>632400.0</td>\n",
       "      <td>50.0</td>\n",
       "    </tr>\n",
       "    <tr>\n",
       "      <th>31</th>\n",
       "      <td>136310</td>\n",
       "      <td>Anapa</td>\n",
       "      <td>Moscow</td>\n",
       "      <td>2017-01-22T11:45:00Z</td>\n",
       "      <td>Boeing 737-300</td>\n",
       "      <td>1654200.0</td>\n",
       "      <td>100.0</td>\n",
       "    </tr>\n",
       "    <tr>\n",
       "      <th>55</th>\n",
       "      <td>136471</td>\n",
       "      <td>Anapa</td>\n",
       "      <td>Moscow</td>\n",
       "      <td>2017-01-17T11:45:00Z</td>\n",
       "      <td>Boeing 737-300</td>\n",
       "      <td>1762800.0</td>\n",
       "      <td>100.0</td>\n",
       "    </tr>\n",
       "  </tbody>\n",
       "</table>\n",
       "</div>"
      ],
      "text/plain": [
       "     flight_id dep_city  arr_city     scheduled_arrival                model  \\\n",
       "76      136632    Anapa  Belgorod  2017-01-07T10:15:00Z  Sukhoi Superjet-100   \n",
       "74      136620    Anapa  Belgorod  2017-02-17T10:15:00Z  Sukhoi Superjet-100   \n",
       "40      136383    Anapa    Moscow  2017-01-25T11:45:00Z       Boeing 737-300   \n",
       "122     136936    Anapa  Belgorod  2017-01-02T10:15:00Z  Sukhoi Superjet-100   \n",
       "31      136310    Anapa    Moscow  2017-01-22T11:45:00Z       Boeing 737-300   \n",
       "55      136471    Anapa    Moscow  2017-01-17T11:45:00Z       Boeing 737-300   \n",
       "\n",
       "      proceeds  travel_time  \n",
       "76    714300.0         50.0  \n",
       "74    613500.0         50.0  \n",
       "40   1493200.0        100.0  \n",
       "122   632400.0         50.0  \n",
       "31   1654200.0        100.0  \n",
       "55   1762800.0        100.0  "
      ]
     },
     "execution_count": 3,
     "metadata": {},
     "output_type": "execute_result"
    }
   ],
   "source": [
    "df.sample(6)"
   ]
  },
  {
   "cell_type": "markdown",
   "metadata": {},
   "source": [
    "##### Данные датасета:\n",
    "- <b>flight_id</b> - уникальный идентификатор рейса<br>\n",
    "- <b>dep_city</b> - город вылета самолета (Анапа)<br>\n",
    "- <b>arr_city</b> - город прибытия самолета<br>\n",
    "- <b>sheduled_arrival</b> - время вылета самолет<br>\n",
    "- <b>model</b> - модель самолета<br>\n",
    "- <b>proceeds</b> - общая сумма проданных на рейс билетов<br>\n",
    "- <b>travel_time</b> - время самолета в пути (в минутах)<br>"
   ]
  },
  {
   "cell_type": "code",
   "execution_count": 4,
   "metadata": {},
   "outputs": [
    {
     "name": "stdout",
     "output_type": "stream",
     "text": [
      "<class 'pandas.core.frame.DataFrame'>\n",
      "RangeIndex: 127 entries, 0 to 126\n",
      "Data columns (total 7 columns):\n",
      " #   Column             Non-Null Count  Dtype  \n",
      "---  ------             --------------  -----  \n",
      " 0   flight_id          127 non-null    int64  \n",
      " 1   dep_city           127 non-null    object \n",
      " 2   arr_city           127 non-null    object \n",
      " 3   scheduled_arrival  127 non-null    object \n",
      " 4   model              127 non-null    object \n",
      " 5   proceeds           118 non-null    float64\n",
      " 6   travel_time        127 non-null    float64\n",
      "dtypes: float64(2), int64(1), object(4)\n",
      "memory usage: 7.1+ KB\n"
     ]
    }
   ],
   "source": [
    "df.info()"
   ]
  },
  {
   "cell_type": "code",
   "execution_count": 5,
   "metadata": {
    "scrolled": true
   },
   "outputs": [],
   "source": [
    "# удаляем пустые значения:\n",
    "df.dropna(inplace = True)"
   ]
  },
  {
   "cell_type": "code",
   "execution_count": 6,
   "metadata": {},
   "outputs": [
    {
     "data": {
      "text/html": [
       "<div>\n",
       "<style scoped>\n",
       "    .dataframe tbody tr th:only-of-type {\n",
       "        vertical-align: middle;\n",
       "    }\n",
       "\n",
       "    .dataframe tbody tr th {\n",
       "        vertical-align: top;\n",
       "    }\n",
       "\n",
       "    .dataframe thead th {\n",
       "        text-align: right;\n",
       "    }\n",
       "</style>\n",
       "<table border=\"1\" class=\"dataframe\">\n",
       "  <thead>\n",
       "    <tr style=\"text-align: right;\">\n",
       "      <th></th>\n",
       "      <th>flight_id</th>\n",
       "      <th>dep_city</th>\n",
       "      <th>arr_city</th>\n",
       "      <th>scheduled_arrival</th>\n",
       "      <th>model</th>\n",
       "      <th>proceeds</th>\n",
       "      <th>travel_time</th>\n",
       "    </tr>\n",
       "  </thead>\n",
       "  <tbody>\n",
       "    <tr>\n",
       "      <th>41</th>\n",
       "      <td>136387</td>\n",
       "      <td>Anapa</td>\n",
       "      <td>Moscow</td>\n",
       "      <td>2017-01-19T11:45:00Z</td>\n",
       "      <td>Boeing 737-300</td>\n",
       "      <td>1775000.0</td>\n",
       "      <td>100.0</td>\n",
       "    </tr>\n",
       "    <tr>\n",
       "      <th>78</th>\n",
       "      <td>136645</td>\n",
       "      <td>Anapa</td>\n",
       "      <td>Belgorod</td>\n",
       "      <td>2017-01-05T10:15:00Z</td>\n",
       "      <td>Sukhoi Superjet-100</td>\n",
       "      <td>633000.0</td>\n",
       "      <td>50.0</td>\n",
       "    </tr>\n",
       "    <tr>\n",
       "      <th>54</th>\n",
       "      <td>136464</td>\n",
       "      <td>Anapa</td>\n",
       "      <td>Moscow</td>\n",
       "      <td>2017-01-09T11:45:00Z</td>\n",
       "      <td>Boeing 737-300</td>\n",
       "      <td>1398000.0</td>\n",
       "      <td>100.0</td>\n",
       "    </tr>\n",
       "    <tr>\n",
       "      <th>125</th>\n",
       "      <td>136953</td>\n",
       "      <td>Anapa</td>\n",
       "      <td>Belgorod</td>\n",
       "      <td>2017-02-27T10:15:00Z</td>\n",
       "      <td>Sukhoi Superjet-100</td>\n",
       "      <td>765300.0</td>\n",
       "      <td>50.0</td>\n",
       "    </tr>\n",
       "    <tr>\n",
       "      <th>90</th>\n",
       "      <td>136729</td>\n",
       "      <td>Anapa</td>\n",
       "      <td>Belgorod</td>\n",
       "      <td>2017-01-29T10:15:00Z</td>\n",
       "      <td>Sukhoi Superjet-100</td>\n",
       "      <td>695400.0</td>\n",
       "      <td>50.0</td>\n",
       "    </tr>\n",
       "    <tr>\n",
       "      <th>37</th>\n",
       "      <td>136351</td>\n",
       "      <td>Anapa</td>\n",
       "      <td>Moscow</td>\n",
       "      <td>2017-02-26T11:45:00Z</td>\n",
       "      <td>Boeing 737-300</td>\n",
       "      <td>1555400.0</td>\n",
       "      <td>100.0</td>\n",
       "    </tr>\n",
       "  </tbody>\n",
       "</table>\n",
       "</div>"
      ],
      "text/plain": [
       "     flight_id dep_city  arr_city     scheduled_arrival                model  \\\n",
       "41      136387    Anapa    Moscow  2017-01-19T11:45:00Z       Boeing 737-300   \n",
       "78      136645    Anapa  Belgorod  2017-01-05T10:15:00Z  Sukhoi Superjet-100   \n",
       "54      136464    Anapa    Moscow  2017-01-09T11:45:00Z       Boeing 737-300   \n",
       "125     136953    Anapa  Belgorod  2017-02-27T10:15:00Z  Sukhoi Superjet-100   \n",
       "90      136729    Anapa  Belgorod  2017-01-29T10:15:00Z  Sukhoi Superjet-100   \n",
       "37      136351    Anapa    Moscow  2017-02-26T11:45:00Z       Boeing 737-300   \n",
       "\n",
       "      proceeds  travel_time  \n",
       "41   1775000.0        100.0  \n",
       "78    633000.0         50.0  \n",
       "54   1398000.0        100.0  \n",
       "125   765300.0         50.0  \n",
       "90    695400.0         50.0  \n",
       "37   1555400.0        100.0  "
      ]
     },
     "execution_count": 6,
     "metadata": {},
     "output_type": "execute_result"
    }
   ],
   "source": [
    "df.sample(6)"
   ]
  },
  {
   "cell_type": "markdown",
   "metadata": {},
   "source": [
    "Чтобы посчитать прибыльность, дополнительно введем в датасет следующие значения:<br>\n",
    "- <b>fuel_price</b> - цена авиционного топлива (46424 руб.) <br>\n",
    "- <b>fuel_cons</b> - расход топлива расход топлива в тоннах конкретной модели самолета в час<br>"
   ]
  },
  {
   "cell_type": "code",
   "execution_count": 7,
   "metadata": {},
   "outputs": [
    {
     "data": {
      "text/plain": [
       "Boeing 737-300         59\n",
       "Sukhoi Superjet-100    59\n",
       "Name: model, dtype: int64"
      ]
     },
     "execution_count": 7,
     "metadata": {},
     "output_type": "execute_result"
    }
   ],
   "source": [
    "df['model'].value_counts()"
   ]
  },
  {
   "cell_type": "markdown",
   "metadata": {},
   "source": [
    "У нас только две модели самолетов. <br>\n",
    "Расход топлива в тоннах конкретной модели самолета в час (<b>fuel_cons</b>):<br><br>\n",
    "<i>Boeing 737-300</i> - 2.4 тонн/час<br>\n",
    "<i>Sukhoi Superjet-100</i> - 1.7 тонн/час"
   ]
  },
  {
   "cell_type": "code",
   "execution_count": 8,
   "metadata": {},
   "outputs": [],
   "source": [
    "# добавим в датасет нужные данные\n",
    "df['fuel_price'] = 46424\n",
    "df['fuel_cons'] = df['model'].apply(lambda x: 2.4 if x == 'Boeing 737-300' else 1.7)    "
   ]
  },
  {
   "cell_type": "code",
   "execution_count": 9,
   "metadata": {},
   "outputs": [
    {
     "data": {
      "text/html": [
       "<div>\n",
       "<style scoped>\n",
       "    .dataframe tbody tr th:only-of-type {\n",
       "        vertical-align: middle;\n",
       "    }\n",
       "\n",
       "    .dataframe tbody tr th {\n",
       "        vertical-align: top;\n",
       "    }\n",
       "\n",
       "    .dataframe thead th {\n",
       "        text-align: right;\n",
       "    }\n",
       "</style>\n",
       "<table border=\"1\" class=\"dataframe\">\n",
       "  <thead>\n",
       "    <tr style=\"text-align: right;\">\n",
       "      <th></th>\n",
       "      <th>flight_id</th>\n",
       "      <th>dep_city</th>\n",
       "      <th>arr_city</th>\n",
       "      <th>scheduled_arrival</th>\n",
       "      <th>model</th>\n",
       "      <th>proceeds</th>\n",
       "      <th>travel_time</th>\n",
       "      <th>fuel_price</th>\n",
       "      <th>fuel_cons</th>\n",
       "    </tr>\n",
       "  </thead>\n",
       "  <tbody>\n",
       "    <tr>\n",
       "      <th>27</th>\n",
       "      <td>136275</td>\n",
       "      <td>Anapa</td>\n",
       "      <td>Moscow</td>\n",
       "      <td>2017-01-13T11:45:00Z</td>\n",
       "      <td>Boeing 737-300</td>\n",
       "      <td>1825000.0</td>\n",
       "      <td>100.0</td>\n",
       "      <td>46424</td>\n",
       "      <td>2.4</td>\n",
       "    </tr>\n",
       "    <tr>\n",
       "      <th>28</th>\n",
       "      <td>136282</td>\n",
       "      <td>Anapa</td>\n",
       "      <td>Moscow</td>\n",
       "      <td>2017-01-16T11:45:00Z</td>\n",
       "      <td>Boeing 737-300</td>\n",
       "      <td>1518800.0</td>\n",
       "      <td>100.0</td>\n",
       "      <td>46424</td>\n",
       "      <td>2.4</td>\n",
       "    </tr>\n",
       "    <tr>\n",
       "      <th>112</th>\n",
       "      <td>136861</td>\n",
       "      <td>Anapa</td>\n",
       "      <td>Belgorod</td>\n",
       "      <td>2017-02-12T10:15:00Z</td>\n",
       "      <td>Sukhoi Superjet-100</td>\n",
       "      <td>689100.0</td>\n",
       "      <td>50.0</td>\n",
       "      <td>46424</td>\n",
       "      <td>1.7</td>\n",
       "    </tr>\n",
       "    <tr>\n",
       "      <th>46</th>\n",
       "      <td>136423</td>\n",
       "      <td>Anapa</td>\n",
       "      <td>Moscow</td>\n",
       "      <td>2017-01-10T11:45:00Z</td>\n",
       "      <td>Boeing 737-300</td>\n",
       "      <td>1849400.0</td>\n",
       "      <td>100.0</td>\n",
       "      <td>46424</td>\n",
       "      <td>2.4</td>\n",
       "    </tr>\n",
       "    <tr>\n",
       "      <th>84</th>\n",
       "      <td>136669</td>\n",
       "      <td>Anapa</td>\n",
       "      <td>Belgorod</td>\n",
       "      <td>2017-01-17T10:15:00Z</td>\n",
       "      <td>Sukhoi Superjet-100</td>\n",
       "      <td>752700.0</td>\n",
       "      <td>50.0</td>\n",
       "      <td>46424</td>\n",
       "      <td>1.7</td>\n",
       "    </tr>\n",
       "    <tr>\n",
       "      <th>114</th>\n",
       "      <td>136871</td>\n",
       "      <td>Anapa</td>\n",
       "      <td>Belgorod</td>\n",
       "      <td>2017-01-13T10:15:00Z</td>\n",
       "      <td>Sukhoi Superjet-100</td>\n",
       "      <td>765300.0</td>\n",
       "      <td>50.0</td>\n",
       "      <td>46424</td>\n",
       "      <td>1.7</td>\n",
       "    </tr>\n",
       "  </tbody>\n",
       "</table>\n",
       "</div>"
      ],
      "text/plain": [
       "     flight_id dep_city  arr_city     scheduled_arrival                model  \\\n",
       "27      136275    Anapa    Moscow  2017-01-13T11:45:00Z       Boeing 737-300   \n",
       "28      136282    Anapa    Moscow  2017-01-16T11:45:00Z       Boeing 737-300   \n",
       "112     136861    Anapa  Belgorod  2017-02-12T10:15:00Z  Sukhoi Superjet-100   \n",
       "46      136423    Anapa    Moscow  2017-01-10T11:45:00Z       Boeing 737-300   \n",
       "84      136669    Anapa  Belgorod  2017-01-17T10:15:00Z  Sukhoi Superjet-100   \n",
       "114     136871    Anapa  Belgorod  2017-01-13T10:15:00Z  Sukhoi Superjet-100   \n",
       "\n",
       "      proceeds  travel_time  fuel_price  fuel_cons  \n",
       "27   1825000.0        100.0       46424        2.4  \n",
       "28   1518800.0        100.0       46424        2.4  \n",
       "112   689100.0         50.0       46424        1.7  \n",
       "46   1849400.0        100.0       46424        2.4  \n",
       "84    752700.0         50.0       46424        1.7  \n",
       "114   765300.0         50.0       46424        1.7  "
      ]
     },
     "execution_count": 9,
     "metadata": {},
     "output_type": "execute_result"
    }
   ],
   "source": [
    "df.sample(6)"
   ]
  },
  {
   "cell_type": "markdown",
   "metadata": {},
   "source": [
    "Прибыльность рейса расчитаем по такой формуле: <br><br>\n",
    "<b>profit = proceeds - fuel_price * fuel_cons * (travel_time)/60</b>"
   ]
  },
  {
   "cell_type": "code",
   "execution_count": 10,
   "metadata": {},
   "outputs": [],
   "source": [
    "df['profit']=df['proceeds'] -  df['fuel_price'] * df['fuel_cons'] * df['travel_time']/60"
   ]
  },
  {
   "cell_type": "code",
   "execution_count": 11,
   "metadata": {},
   "outputs": [
    {
     "data": {
      "text/html": [
       "<div>\n",
       "<style scoped>\n",
       "    .dataframe tbody tr th:only-of-type {\n",
       "        vertical-align: middle;\n",
       "    }\n",
       "\n",
       "    .dataframe tbody tr th {\n",
       "        vertical-align: top;\n",
       "    }\n",
       "\n",
       "    .dataframe thead th {\n",
       "        text-align: right;\n",
       "    }\n",
       "</style>\n",
       "<table border=\"1\" class=\"dataframe\">\n",
       "  <thead>\n",
       "    <tr style=\"text-align: right;\">\n",
       "      <th></th>\n",
       "      <th>flight_id</th>\n",
       "      <th>dep_city</th>\n",
       "      <th>arr_city</th>\n",
       "      <th>scheduled_arrival</th>\n",
       "      <th>model</th>\n",
       "      <th>proceeds</th>\n",
       "      <th>travel_time</th>\n",
       "      <th>fuel_price</th>\n",
       "      <th>fuel_cons</th>\n",
       "      <th>profit</th>\n",
       "    </tr>\n",
       "  </thead>\n",
       "  <tbody>\n",
       "    <tr>\n",
       "      <th>57</th>\n",
       "      <td>136485</td>\n",
       "      <td>Anapa</td>\n",
       "      <td>Moscow</td>\n",
       "      <td>2017-01-27T11:45:00Z</td>\n",
       "      <td>Boeing 737-300</td>\n",
       "      <td>1,520,000.00</td>\n",
       "      <td>100.00</td>\n",
       "      <td>46424</td>\n",
       "      <td>2.40</td>\n",
       "      <td>1,334,304.00</td>\n",
       "    </tr>\n",
       "    <tr>\n",
       "      <th>71</th>\n",
       "      <td>136605</td>\n",
       "      <td>Anapa</td>\n",
       "      <td>Belgorod</td>\n",
       "      <td>2017-02-15T10:15:00Z</td>\n",
       "      <td>Sukhoi Superjet-100</td>\n",
       "      <td>765,300.00</td>\n",
       "      <td>50.00</td>\n",
       "      <td>46424</td>\n",
       "      <td>1.70</td>\n",
       "      <td>699,532.67</td>\n",
       "    </tr>\n",
       "    <tr>\n",
       "      <th>121</th>\n",
       "      <td>136927</td>\n",
       "      <td>Anapa</td>\n",
       "      <td>Belgorod</td>\n",
       "      <td>2017-01-22T10:15:00Z</td>\n",
       "      <td>Sukhoi Superjet-100</td>\n",
       "      <td>765,300.00</td>\n",
       "      <td>50.00</td>\n",
       "      <td>46424</td>\n",
       "      <td>1.70</td>\n",
       "      <td>699,532.67</td>\n",
       "    </tr>\n",
       "    <tr>\n",
       "      <th>68</th>\n",
       "      <td>136571</td>\n",
       "      <td>Anapa</td>\n",
       "      <td>Belgorod</td>\n",
       "      <td>2017-01-25T10:15:00Z</td>\n",
       "      <td>Sukhoi Superjet-100</td>\n",
       "      <td>752,700.00</td>\n",
       "      <td>50.00</td>\n",
       "      <td>46424</td>\n",
       "      <td>1.70</td>\n",
       "      <td>686,932.67</td>\n",
       "    </tr>\n",
       "    <tr>\n",
       "      <th>15</th>\n",
       "      <td>136202</td>\n",
       "      <td>Anapa</td>\n",
       "      <td>Moscow</td>\n",
       "      <td>2017-01-05T11:45:00Z</td>\n",
       "      <td>Boeing 737-300</td>\n",
       "      <td>1,495,600.00</td>\n",
       "      <td>100.00</td>\n",
       "      <td>46424</td>\n",
       "      <td>2.40</td>\n",
       "      <td>1,309,904.00</td>\n",
       "    </tr>\n",
       "    <tr>\n",
       "      <th>29</th>\n",
       "      <td>136284</td>\n",
       "      <td>Anapa</td>\n",
       "      <td>Moscow</td>\n",
       "      <td>2017-02-07T11:45:00Z</td>\n",
       "      <td>Boeing 737-300</td>\n",
       "      <td>1,677,400.00</td>\n",
       "      <td>100.00</td>\n",
       "      <td>46424</td>\n",
       "      <td>2.40</td>\n",
       "      <td>1,491,704.00</td>\n",
       "    </tr>\n",
       "  </tbody>\n",
       "</table>\n",
       "</div>"
      ],
      "text/plain": [
       "     flight_id dep_city  arr_city     scheduled_arrival                model  \\\n",
       "57      136485    Anapa    Moscow  2017-01-27T11:45:00Z       Boeing 737-300   \n",
       "71      136605    Anapa  Belgorod  2017-02-15T10:15:00Z  Sukhoi Superjet-100   \n",
       "121     136927    Anapa  Belgorod  2017-01-22T10:15:00Z  Sukhoi Superjet-100   \n",
       "68      136571    Anapa  Belgorod  2017-01-25T10:15:00Z  Sukhoi Superjet-100   \n",
       "15      136202    Anapa    Moscow  2017-01-05T11:45:00Z       Boeing 737-300   \n",
       "29      136284    Anapa    Moscow  2017-02-07T11:45:00Z       Boeing 737-300   \n",
       "\n",
       "        proceeds  travel_time  fuel_price  fuel_cons       profit  \n",
       "57  1,520,000.00       100.00       46424       2.40 1,334,304.00  \n",
       "71    765,300.00        50.00       46424       1.70   699,532.67  \n",
       "121   765,300.00        50.00       46424       1.70   699,532.67  \n",
       "68    752,700.00        50.00       46424       1.70   686,932.67  \n",
       "15  1,495,600.00       100.00       46424       2.40 1,309,904.00  \n",
       "29  1,677,400.00       100.00       46424       2.40 1,491,704.00  "
      ]
     },
     "execution_count": 11,
     "metadata": {},
     "output_type": "execute_result"
    }
   ],
   "source": [
    "pd.options.display.float_format ='{:,.2f}'.format\n",
    "df.sample(6)"
   ]
  },
  {
   "cell_type": "code",
   "execution_count": 12,
   "metadata": {},
   "outputs": [
    {
     "data": {
      "text/plain": [
       "1050774.2655367258"
      ]
     },
     "execution_count": 12,
     "metadata": {},
     "output_type": "execute_result"
    }
   ],
   "source": [
    "# Найдем среднюю прибыль по рейсам\n",
    "df['profit'].mean()"
   ]
  },
  {
   "cell_type": "code",
   "execution_count": 13,
   "metadata": {
    "scrolled": true
   },
   "outputs": [
    {
     "data": {
      "text/plain": [
       "arr_city\n",
       "Belgorod     644,668.26\n",
       "Moscow     1,456,880.27\n",
       "Name: profit, dtype: float64"
      ]
     },
     "execution_count": 13,
     "metadata": {},
     "output_type": "execute_result"
    }
   ],
   "source": [
    "# Средняя прибыль в зависимости от города прибытия\n",
    "df.groupby('arr_city')['profit'].mean()"
   ]
  },
  {
   "cell_type": "code",
   "execution_count": 14,
   "metadata": {},
   "outputs": [
    {
     "data": {
      "text/plain": [
       "<AxesSubplot:xlabel='arr_city'>"
      ]
     },
     "execution_count": 14,
     "metadata": {},
     "output_type": "execute_result"
    },
    {
     "data": {
      "image/png": "[encoded data removed]",
      "text/plain": [
       "<Figure size 432x288 with 1 Axes>"
      ]
     },
     "metadata": {
      "needs_background": "light"
     },
     "output_type": "display_data"
    }
   ],
   "source": [
    "arr_city = df.groupby('arr_city')['profit'].mean()\n",
    "arr_city.plot.bar(rot=0) #Прибыль в млн. рублей"
   ]
  },
  {
   "cell_type": "code",
   "execution_count": 15,
   "metadata": {},
   "outputs": [
    {
     "data": {
      "text/plain": [
       "model\n",
       "Boeing 737-300        1,456,880.27\n",
       "Sukhoi Superjet-100     644,668.26\n",
       "Name: profit, dtype: float64"
      ]
     },
     "execution_count": 15,
     "metadata": {},
     "output_type": "execute_result"
    }
   ],
   "source": [
    "# Средняя прибыль в зависимости от модели самолета\n",
    "df.groupby('model')['profit'].mean()"
   ]
  },
  {
   "cell_type": "code",
   "execution_count": 16,
   "metadata": {},
   "outputs": [
    {
     "data": {
      "text/plain": [
       "<AxesSubplot:xlabel='model'>"
      ]
     },
     "execution_count": 16,
     "metadata": {},
     "output_type": "execute_result"
    },
    {
     "data": {
      "image/png": "[encoded data removed]",
      "text/plain": [
       "<Figure size 432x288 with 1 Axes>"
      ]
     },
     "metadata": {
      "needs_background": "light"
     },
     "output_type": "display_data"
    }
   ],
   "source": [
    "model = df.groupby('model')['profit'].mean()\n",
    "model.plot.bar(rot=0) #Прибыль в млн. рублей"
   ]
  },
  {
   "cell_type": "markdown",
   "metadata": {},
   "source": [
    "Средние показатели прибыли по городам прибытия и моделям самолета совпадают, т.к. параметры имеют между собой прямю зависимость."
   ]
  },
  {
   "cell_type": "code",
   "execution_count": 17,
   "metadata": {},
   "outputs": [
    {
     "data": {
      "text/html": [
       "<div>\n",
       "<style scoped>\n",
       "    .dataframe tbody tr th:only-of-type {\n",
       "        vertical-align: middle;\n",
       "    }\n",
       "\n",
       "    .dataframe tbody tr th {\n",
       "        vertical-align: top;\n",
       "    }\n",
       "\n",
       "    .dataframe thead th {\n",
       "        text-align: right;\n",
       "    }\n",
       "</style>\n",
       "<table border=\"1\" class=\"dataframe\">\n",
       "  <thead>\n",
       "    <tr style=\"text-align: right;\">\n",
       "      <th></th>\n",
       "      <th>flight_id</th>\n",
       "      <th>dep_city</th>\n",
       "      <th>arr_city</th>\n",
       "      <th>scheduled_arrival</th>\n",
       "      <th>model</th>\n",
       "      <th>proceeds</th>\n",
       "      <th>travel_time</th>\n",
       "      <th>fuel_price</th>\n",
       "      <th>fuel_cons</th>\n",
       "      <th>profit</th>\n",
       "    </tr>\n",
       "  </thead>\n",
       "  <tbody>\n",
       "    <tr>\n",
       "      <th>102</th>\n",
       "      <td>136807</td>\n",
       "      <td>Anapa</td>\n",
       "      <td>Belgorod</td>\n",
       "      <td>2017-02-23T10:15:00Z</td>\n",
       "      <td>Sukhoi Superjet-100</td>\n",
       "      <td>531,000.00</td>\n",
       "      <td>50.00</td>\n",
       "      <td>46424</td>\n",
       "      <td>1.70</td>\n",
       "      <td>465,232.67</td>\n",
       "    </tr>\n",
       "    <tr>\n",
       "      <th>77</th>\n",
       "      <td>136642</td>\n",
       "      <td>Anapa</td>\n",
       "      <td>Belgorod</td>\n",
       "      <td>2017-01-30T10:15:00Z</td>\n",
       "      <td>Sukhoi Superjet-100</td>\n",
       "      <td>531,000.00</td>\n",
       "      <td>50.00</td>\n",
       "      <td>46424</td>\n",
       "      <td>1.70</td>\n",
       "      <td>465,232.67</td>\n",
       "    </tr>\n",
       "    <tr>\n",
       "      <th>109</th>\n",
       "      <td>136844</td>\n",
       "      <td>Anapa</td>\n",
       "      <td>Belgorod</td>\n",
       "      <td>2017-02-28T10:15:00Z</td>\n",
       "      <td>Sukhoi Superjet-100</td>\n",
       "      <td>575,100.00</td>\n",
       "      <td>50.00</td>\n",
       "      <td>46424</td>\n",
       "      <td>1.70</td>\n",
       "      <td>509,332.67</td>\n",
       "    </tr>\n",
       "    <tr>\n",
       "      <th>116</th>\n",
       "      <td>136887</td>\n",
       "      <td>Anapa</td>\n",
       "      <td>Belgorod</td>\n",
       "      <td>2017-01-20T10:15:00Z</td>\n",
       "      <td>Sukhoi Superjet-100</td>\n",
       "      <td>595,200.00</td>\n",
       "      <td>50.00</td>\n",
       "      <td>46424</td>\n",
       "      <td>1.70</td>\n",
       "      <td>529,432.67</td>\n",
       "    </tr>\n",
       "    <tr>\n",
       "      <th>120</th>\n",
       "      <td>136922</td>\n",
       "      <td>Anapa</td>\n",
       "      <td>Belgorod</td>\n",
       "      <td>2017-02-11T10:15:00Z</td>\n",
       "      <td>Sukhoi Superjet-100</td>\n",
       "      <td>607,800.00</td>\n",
       "      <td>50.00</td>\n",
       "      <td>46424</td>\n",
       "      <td>1.70</td>\n",
       "      <td>542,032.67</td>\n",
       "    </tr>\n",
       "    <tr>\n",
       "      <th>74</th>\n",
       "      <td>136620</td>\n",
       "      <td>Anapa</td>\n",
       "      <td>Belgorod</td>\n",
       "      <td>2017-02-17T10:15:00Z</td>\n",
       "      <td>Sukhoi Superjet-100</td>\n",
       "      <td>613,500.00</td>\n",
       "      <td>50.00</td>\n",
       "      <td>46424</td>\n",
       "      <td>1.70</td>\n",
       "      <td>547,732.67</td>\n",
       "    </tr>\n",
       "    <tr>\n",
       "      <th>105</th>\n",
       "      <td>136823</td>\n",
       "      <td>Anapa</td>\n",
       "      <td>Belgorod</td>\n",
       "      <td>2017-02-05T10:15:00Z</td>\n",
       "      <td>Sukhoi Superjet-100</td>\n",
       "      <td>620,400.00</td>\n",
       "      <td>50.00</td>\n",
       "      <td>46424</td>\n",
       "      <td>1.70</td>\n",
       "      <td>554,632.67</td>\n",
       "    </tr>\n",
       "    <tr>\n",
       "      <th>123</th>\n",
       "      <td>136937</td>\n",
       "      <td>Anapa</td>\n",
       "      <td>Belgorod</td>\n",
       "      <td>2017-01-03T10:15:00Z</td>\n",
       "      <td>Sukhoi Superjet-100</td>\n",
       "      <td>626,100.00</td>\n",
       "      <td>50.00</td>\n",
       "      <td>46424</td>\n",
       "      <td>1.70</td>\n",
       "      <td>560,332.67</td>\n",
       "    </tr>\n",
       "    <tr>\n",
       "      <th>117</th>\n",
       "      <td>136888</td>\n",
       "      <td>Anapa</td>\n",
       "      <td>Belgorod</td>\n",
       "      <td>2017-02-14T10:15:00Z</td>\n",
       "      <td>Sukhoi Superjet-100</td>\n",
       "      <td>626,100.00</td>\n",
       "      <td>50.00</td>\n",
       "      <td>46424</td>\n",
       "      <td>1.70</td>\n",
       "      <td>560,332.67</td>\n",
       "    </tr>\n",
       "    <tr>\n",
       "      <th>86</th>\n",
       "      <td>136678</td>\n",
       "      <td>Anapa</td>\n",
       "      <td>Belgorod</td>\n",
       "      <td>2017-01-28T10:15:00Z</td>\n",
       "      <td>Sukhoi Superjet-100</td>\n",
       "      <td>631,200.00</td>\n",
       "      <td>50.00</td>\n",
       "      <td>46424</td>\n",
       "      <td>1.70</td>\n",
       "      <td>565,432.67</td>\n",
       "    </tr>\n",
       "  </tbody>\n",
       "</table>\n",
       "</div>"
      ],
      "text/plain": [
       "     flight_id dep_city  arr_city     scheduled_arrival                model  \\\n",
       "102     136807    Anapa  Belgorod  2017-02-23T10:15:00Z  Sukhoi Superjet-100   \n",
       "77      136642    Anapa  Belgorod  2017-01-30T10:15:00Z  Sukhoi Superjet-100   \n",
       "109     136844    Anapa  Belgorod  2017-02-28T10:15:00Z  Sukhoi Superjet-100   \n",
       "116     136887    Anapa  Belgorod  2017-01-20T10:15:00Z  Sukhoi Superjet-100   \n",
       "120     136922    Anapa  Belgorod  2017-02-11T10:15:00Z  Sukhoi Superjet-100   \n",
       "74      136620    Anapa  Belgorod  2017-02-17T10:15:00Z  Sukhoi Superjet-100   \n",
       "105     136823    Anapa  Belgorod  2017-02-05T10:15:00Z  Sukhoi Superjet-100   \n",
       "123     136937    Anapa  Belgorod  2017-01-03T10:15:00Z  Sukhoi Superjet-100   \n",
       "117     136888    Anapa  Belgorod  2017-02-14T10:15:00Z  Sukhoi Superjet-100   \n",
       "86      136678    Anapa  Belgorod  2017-01-28T10:15:00Z  Sukhoi Superjet-100   \n",
       "\n",
       "      proceeds  travel_time  fuel_price  fuel_cons     profit  \n",
       "102 531,000.00        50.00       46424       1.70 465,232.67  \n",
       "77  531,000.00        50.00       46424       1.70 465,232.67  \n",
       "109 575,100.00        50.00       46424       1.70 509,332.67  \n",
       "116 595,200.00        50.00       46424       1.70 529,432.67  \n",
       "120 607,800.00        50.00       46424       1.70 542,032.67  \n",
       "74  613,500.00        50.00       46424       1.70 547,732.67  \n",
       "105 620,400.00        50.00       46424       1.70 554,632.67  \n",
       "123 626,100.00        50.00       46424       1.70 560,332.67  \n",
       "117 626,100.00        50.00       46424       1.70 560,332.67  \n",
       "86  631,200.00        50.00       46424       1.70 565,432.67  "
      ]
     },
     "execution_count": 17,
     "metadata": {},
     "output_type": "execute_result"
    }
   ],
   "source": [
    "# Отсортируем  рейсы по прибыльности в порядке убывания\n",
    "df.sort_values(by=['profit']).head(10)"
   ]
  },
  {
   "cell_type": "markdown",
   "metadata": {},
   "source": [
    "Таким образом, самыми малоприбыльными рейсами оказались рейсы  в Белгород. Самыми-самыми малоприбыльными оказались рейс в праздничный день 23 февраля и рейс 30 января."
   ]
  },
  {
   "cell_type": "code",
   "execution_count": 18,
   "metadata": {},
   "outputs": [],
   "source": [
    "# создадим столбец со днями неделями (0 - Понедельник, .. 6 - Воскресенье)\n",
    "df['days_of_week'] = pd.to_datetime(df['scheduled_arrival']).dt.dayofweek"
   ]
  },
  {
   "cell_type": "code",
   "execution_count": 19,
   "metadata": {},
   "outputs": [
    {
     "data": {
      "text/html": [
       "<div>\n",
       "<style scoped>\n",
       "    .dataframe tbody tr th:only-of-type {\n",
       "        vertical-align: middle;\n",
       "    }\n",
       "\n",
       "    .dataframe tbody tr th {\n",
       "        vertical-align: top;\n",
       "    }\n",
       "\n",
       "    .dataframe thead th {\n",
       "        text-align: right;\n",
       "    }\n",
       "</style>\n",
       "<table border=\"1\" class=\"dataframe\">\n",
       "  <thead>\n",
       "    <tr style=\"text-align: right;\">\n",
       "      <th></th>\n",
       "      <th>flight_id</th>\n",
       "      <th>dep_city</th>\n",
       "      <th>arr_city</th>\n",
       "      <th>scheduled_arrival</th>\n",
       "      <th>model</th>\n",
       "      <th>proceeds</th>\n",
       "      <th>travel_time</th>\n",
       "      <th>fuel_price</th>\n",
       "      <th>fuel_cons</th>\n",
       "      <th>profit</th>\n",
       "      <th>days_of_week</th>\n",
       "    </tr>\n",
       "  </thead>\n",
       "  <tbody>\n",
       "    <tr>\n",
       "      <th>102</th>\n",
       "      <td>136807</td>\n",
       "      <td>Anapa</td>\n",
       "      <td>Belgorod</td>\n",
       "      <td>2017-02-23T10:15:00Z</td>\n",
       "      <td>Sukhoi Superjet-100</td>\n",
       "      <td>531,000.00</td>\n",
       "      <td>50.00</td>\n",
       "      <td>46424</td>\n",
       "      <td>1.70</td>\n",
       "      <td>465,232.67</td>\n",
       "      <td>3</td>\n",
       "    </tr>\n",
       "    <tr>\n",
       "      <th>77</th>\n",
       "      <td>136642</td>\n",
       "      <td>Anapa</td>\n",
       "      <td>Belgorod</td>\n",
       "      <td>2017-01-30T10:15:00Z</td>\n",
       "      <td>Sukhoi Superjet-100</td>\n",
       "      <td>531,000.00</td>\n",
       "      <td>50.00</td>\n",
       "      <td>46424</td>\n",
       "      <td>1.70</td>\n",
       "      <td>465,232.67</td>\n",
       "      <td>0</td>\n",
       "    </tr>\n",
       "    <tr>\n",
       "      <th>109</th>\n",
       "      <td>136844</td>\n",
       "      <td>Anapa</td>\n",
       "      <td>Belgorod</td>\n",
       "      <td>2017-02-28T10:15:00Z</td>\n",
       "      <td>Sukhoi Superjet-100</td>\n",
       "      <td>575,100.00</td>\n",
       "      <td>50.00</td>\n",
       "      <td>46424</td>\n",
       "      <td>1.70</td>\n",
       "      <td>509,332.67</td>\n",
       "      <td>1</td>\n",
       "    </tr>\n",
       "    <tr>\n",
       "      <th>116</th>\n",
       "      <td>136887</td>\n",
       "      <td>Anapa</td>\n",
       "      <td>Belgorod</td>\n",
       "      <td>2017-01-20T10:15:00Z</td>\n",
       "      <td>Sukhoi Superjet-100</td>\n",
       "      <td>595,200.00</td>\n",
       "      <td>50.00</td>\n",
       "      <td>46424</td>\n",
       "      <td>1.70</td>\n",
       "      <td>529,432.67</td>\n",
       "      <td>4</td>\n",
       "    </tr>\n",
       "    <tr>\n",
       "      <th>120</th>\n",
       "      <td>136922</td>\n",
       "      <td>Anapa</td>\n",
       "      <td>Belgorod</td>\n",
       "      <td>2017-02-11T10:15:00Z</td>\n",
       "      <td>Sukhoi Superjet-100</td>\n",
       "      <td>607,800.00</td>\n",
       "      <td>50.00</td>\n",
       "      <td>46424</td>\n",
       "      <td>1.70</td>\n",
       "      <td>542,032.67</td>\n",
       "      <td>5</td>\n",
       "    </tr>\n",
       "    <tr>\n",
       "      <th>74</th>\n",
       "      <td>136620</td>\n",
       "      <td>Anapa</td>\n",
       "      <td>Belgorod</td>\n",
       "      <td>2017-02-17T10:15:00Z</td>\n",
       "      <td>Sukhoi Superjet-100</td>\n",
       "      <td>613,500.00</td>\n",
       "      <td>50.00</td>\n",
       "      <td>46424</td>\n",
       "      <td>1.70</td>\n",
       "      <td>547,732.67</td>\n",
       "      <td>4</td>\n",
       "    </tr>\n",
       "    <tr>\n",
       "      <th>105</th>\n",
       "      <td>136823</td>\n",
       "      <td>Anapa</td>\n",
       "      <td>Belgorod</td>\n",
       "      <td>2017-02-05T10:15:00Z</td>\n",
       "      <td>Sukhoi Superjet-100</td>\n",
       "      <td>620,400.00</td>\n",
       "      <td>50.00</td>\n",
       "      <td>46424</td>\n",
       "      <td>1.70</td>\n",
       "      <td>554,632.67</td>\n",
       "      <td>6</td>\n",
       "    </tr>\n",
       "    <tr>\n",
       "      <th>123</th>\n",
       "      <td>136937</td>\n",
       "      <td>Anapa</td>\n",
       "      <td>Belgorod</td>\n",
       "      <td>2017-01-03T10:15:00Z</td>\n",
       "      <td>Sukhoi Superjet-100</td>\n",
       "      <td>626,100.00</td>\n",
       "      <td>50.00</td>\n",
       "      <td>46424</td>\n",
       "      <td>1.70</td>\n",
       "      <td>560,332.67</td>\n",
       "      <td>1</td>\n",
       "    </tr>\n",
       "    <tr>\n",
       "      <th>117</th>\n",
       "      <td>136888</td>\n",
       "      <td>Anapa</td>\n",
       "      <td>Belgorod</td>\n",
       "      <td>2017-02-14T10:15:00Z</td>\n",
       "      <td>Sukhoi Superjet-100</td>\n",
       "      <td>626,100.00</td>\n",
       "      <td>50.00</td>\n",
       "      <td>46424</td>\n",
       "      <td>1.70</td>\n",
       "      <td>560,332.67</td>\n",
       "      <td>1</td>\n",
       "    </tr>\n",
       "    <tr>\n",
       "      <th>86</th>\n",
       "      <td>136678</td>\n",
       "      <td>Anapa</td>\n",
       "      <td>Belgorod</td>\n",
       "      <td>2017-01-28T10:15:00Z</td>\n",
       "      <td>Sukhoi Superjet-100</td>\n",
       "      <td>631,200.00</td>\n",
       "      <td>50.00</td>\n",
       "      <td>46424</td>\n",
       "      <td>1.70</td>\n",
       "      <td>565,432.67</td>\n",
       "      <td>5</td>\n",
       "    </tr>\n",
       "  </tbody>\n",
       "</table>\n",
       "</div>"
      ],
      "text/plain": [
       "     flight_id dep_city  arr_city     scheduled_arrival                model  \\\n",
       "102     136807    Anapa  Belgorod  2017-02-23T10:15:00Z  Sukhoi Superjet-100   \n",
       "77      136642    Anapa  Belgorod  2017-01-30T10:15:00Z  Sukhoi Superjet-100   \n",
       "109     136844    Anapa  Belgorod  2017-02-28T10:15:00Z  Sukhoi Superjet-100   \n",
       "116     136887    Anapa  Belgorod  2017-01-20T10:15:00Z  Sukhoi Superjet-100   \n",
       "120     136922    Anapa  Belgorod  2017-02-11T10:15:00Z  Sukhoi Superjet-100   \n",
       "74      136620    Anapa  Belgorod  2017-02-17T10:15:00Z  Sukhoi Superjet-100   \n",
       "105     136823    Anapa  Belgorod  2017-02-05T10:15:00Z  Sukhoi Superjet-100   \n",
       "123     136937    Anapa  Belgorod  2017-01-03T10:15:00Z  Sukhoi Superjet-100   \n",
       "117     136888    Anapa  Belgorod  2017-02-14T10:15:00Z  Sukhoi Superjet-100   \n",
       "86      136678    Anapa  Belgorod  2017-01-28T10:15:00Z  Sukhoi Superjet-100   \n",
       "\n",
       "      proceeds  travel_time  fuel_price  fuel_cons     profit  days_of_week  \n",
       "102 531,000.00        50.00       46424       1.70 465,232.67             3  \n",
       "77  531,000.00        50.00       46424       1.70 465,232.67             0  \n",
       "109 575,100.00        50.00       46424       1.70 509,332.67             1  \n",
       "116 595,200.00        50.00       46424       1.70 529,432.67             4  \n",
       "120 607,800.00        50.00       46424       1.70 542,032.67             5  \n",
       "74  613,500.00        50.00       46424       1.70 547,732.67             4  \n",
       "105 620,400.00        50.00       46424       1.70 554,632.67             6  \n",
       "123 626,100.00        50.00       46424       1.70 560,332.67             1  \n",
       "117 626,100.00        50.00       46424       1.70 560,332.67             1  \n",
       "86  631,200.00        50.00       46424       1.70 565,432.67             5  "
      ]
     },
     "execution_count": 19,
     "metadata": {},
     "output_type": "execute_result"
    }
   ],
   "source": [
    "df.sort_values(by=['profit']).head(10)"
   ]
  },
  {
   "cell_type": "code",
   "execution_count": 20,
   "metadata": {},
   "outputs": [
    {
     "data": {
      "text/plain": [
       "<AxesSubplot:xlabel='days_of_week'>"
      ]
     },
     "execution_count": 20,
     "metadata": {},
     "output_type": "execute_result"
    },
    {
     "data": {
      "image/png": "[encoded data removed]",
      "text/plain": [
       "<Figure size 432x288 with 1 Axes>"
      ]
     },
     "metadata": {
      "needs_background": "light"
     },
     "output_type": "display_data"
    }
   ],
   "source": [
    "#Посмотрим прибыль по дням недели\n",
    "model = df.groupby('days_of_week')['profit'].mean()\n",
    "model.plot.bar(rot = 0) "
   ]
  },
  {
   "cell_type": "code",
   "execution_count": 21,
   "metadata": {},
   "outputs": [
    {
     "data": {
      "text/plain": [
       "days_of_week\n",
       "0   1,033,968.33\n",
       "1   1,076,435.00\n",
       "2   1,061,199.58\n",
       "3   1,049,468.33\n",
       "4   1,074,662.08\n",
       "5   1,066,805.83\n",
       "6     998,329.44\n",
       "Name: profit, dtype: float64"
      ]
     },
     "execution_count": 21,
     "metadata": {},
     "output_type": "execute_result"
    }
   ],
   "source": [
    "df.groupby('days_of_week')['profit'].mean()"
   ]
  },
  {
   "cell_type": "markdown",
   "metadata": {},
   "source": [
    "Самая маленькая прибыль для всех рейсов оказалась по воскресеньям (6)"
   ]
  },
  {
   "cell_type": "markdown",
   "metadata": {},
   "source": [
    "Посмотрим на прибыль по дням недели, но только для рейсов Анапа-Белгород:"
   ]
  },
  {
   "cell_type": "code",
   "execution_count": 22,
   "metadata": {},
   "outputs": [
    {
     "data": {
      "text/plain": [
       "<AxesSubplot:xlabel='days_of_week'>"
      ]
     },
     "execution_count": 22,
     "metadata": {},
     "output_type": "execute_result"
    },
    {
     "data": {
      "image/png": "[encoded data removed]",
      "text/plain": [
       "<Figure size 432x288 with 1 Axes>"
      ]
     },
     "metadata": {
      "needs_background": "light"
     },
     "output_type": "display_data"
    }
   ],
   "source": [
    "model = df[df['arr_city'] == 'Belgorod'].groupby('days_of_week')['profit'].mean()\n",
    "model.plot.bar(rot = 0) "
   ]
  },
  {
   "cell_type": "code",
   "execution_count": 23,
   "metadata": {},
   "outputs": [
    {
     "data": {
      "text/plain": [
       "days_of_week\n",
       "0   628,566.00\n",
       "1   632,699.33\n",
       "2   687,720.17\n",
       "3   633,157.67\n",
       "4   640,395.17\n",
       "5   651,982.67\n",
       "6   641,999.33\n",
       "Name: profit, dtype: float64"
      ]
     },
     "execution_count": 23,
     "metadata": {},
     "output_type": "execute_result"
    }
   ],
   "source": [
    "df[df['arr_city'] == 'Belgorod'].groupby('days_of_week')['profit'].mean()"
   ]
  },
  {
   "cell_type": "markdown",
   "metadata": {},
   "source": [
    "Для рейсов Анапа-Белгород самый неприбыльный день это понедельник (0)."
   ]
  },
  {
   "cell_type": "markdown",
   "metadata": {},
   "source": [
    "<b>Итоги:</b> <br><br>\n",
    "Анализ датасета показал положительную доходность на всех рейсах. Но для реальной прибыльности необходимо учитывать дополнительные расходы (такие как зарплата персонала и техническое обслуживание). Тем не менее, как показал анализ, невозможно точно определить, какие рейсы оказались реально убыточными. Поэтому, предлагаю оставить все рейсы. Возможно, можно отказаться от рейсов <b>Анапа-Белгород (PG0252)</b> <b>23 февраля</b> и <b>30 января</b> как наименее прибыльных."
   ]
  },
  {
   "cell_type": "code",
   "execution_count": null,
   "metadata": {},
   "outputs": [],
   "source": []
  }
 ],
 "metadata": {
  "kernelspec": {
   "display_name": "Python 3",
   "language": "python",
   "name": "python3"
  },
  "language_info": {
   "codemirror_mode": {
    "name": "ipython",
    "version": 3
   },
   "file_extension": ".py",
   "mimetype": "text/x-python",
   "name": "python",
   "nbconvert_exporter": "python",
   "pygments_lexer": "ipython3",
   "version": "3.7.9"
  }
 },
 "nbformat": 4,
 "nbformat_minor": 4
}
